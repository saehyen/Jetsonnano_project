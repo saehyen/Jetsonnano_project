{
  "nbformat": 4,
  "nbformat_minor": 0,
  "metadata": {
    "colab": {
      "name": "SquatModel.ipynb",
      "private_outputs": true,
      "provenance": []
    },
    "kernelspec": {
      "name": "python3",
      "display_name": "Python 3"
    },
    "language_info": {
      "name": "python"
    }
  },
  "cells": [
    {
      "cell_type": "code",
      "metadata": {
        "id": "qOBQAQfSaI4e"
      },
      "source": [
        "from google.colab import drive\n",
        "drive.mount('/content/drive')"
      ],
      "execution_count": null,
      "outputs": []
    },
    {
      "cell_type": "code",
      "metadata": {
        "id": "t9AyiU0oaPLu"
      },
      "source": [
        "%cd /content/drive/MyDrive/Squat2\n",
        "%ls\n",
        "data_dir = \"/content/drive/MyDrive/Squat2/\""
      ],
      "execution_count": null,
      "outputs": []
    },
    {
      "cell_type": "code",
      "metadata": {
        "id": "Wf3YpAOIZsmY"
      },
      "source": [
        "import tensorflow as tf\n",
        "from tensorflow.keras import Sequential\n",
        "from tensorflow.keras.layers import Conv2D, MaxPool2D, Dense, Flatten, Dropout\n",
        "from tensorflow.keras.preprocessing.image import ImageDataGenerator\n",
        "\n",
        "from sklearn.utils import class_weight\n",
        "\n",
        "import numpy as np"
      ],
      "execution_count": null,
      "outputs": []
    },
    {
      "cell_type": "code",
      "metadata": {
        "id": "P7NxGmYYZ1ct"
      },
      "source": [
        "tf.keras.backend.set_floatx('float64')\n",
        "\n",
        "drop = 0.5\n",
        "img_size = (128, 128)"
      ],
      "execution_count": null,
      "outputs": []
    },
    {
      "cell_type": "code",
      "metadata": {
        "id": "pkp26L09Z1at"
      },
      "source": [
        "model = Sequential([\n",
        "    Conv2D(8, 5, activation = 'relu', input_shape = (img_size[0], img_size[1], 1)),\n",
        "    MaxPool2D(3),\n",
        "    Conv2D(16, 4, activation = 'relu'),\n",
        "    MaxPool2D(2),\n",
        "    Conv2D(32, 3, activation = 'relu'),\n",
        "    Flatten(),\n",
        "    Dense(32, activation = 'relu'),\n",
        "    Dropout(drop),\n",
        "    Dense(8, activation = 'relu'),\n",
        "    Dense(3, activation = 'softmax')\n",
        "])\n",
        "\n",
        "model.compile(optimizer = 'adam', loss = 'categorical_crossentropy', metrics = ['accuracy'])"
      ],
      "execution_count": null,
      "outputs": []
    },
    {
      "cell_type": "code",
      "metadata": {
        "id": "3ZNQ4SeUZ1Yl"
      },
      "source": [
        "datagen = ImageDataGenerator(\n",
        "    rescale = 1. / 255.,\n",
        "    shear_range = 0.2,\n",
        "    zoom_range = 0.05,\n",
        "    rotation_range = 10,\n",
        "    width_shift_range = 0.1,\n",
        "    height_shift_range = 0.05,\n",
        "    brightness_range = [1, 1.5],\n",
        "    horizontal_flip = True,\n",
        "    dtype = tf.float64)"
      ],
      "execution_count": null,
      "outputs": []
    },
    {
      "cell_type": "code",
      "metadata": {
        "id": "jMIm6O7-Z1Wl"
      },
      "source": [
        "train_generator = datagen.flow_from_directory(\n",
        "    '/content/drive/MyDrive/Squat2/train',\n",
        "    target_size = img_size,\n",
        "    color_mode = 'grayscale',\n",
        "    batch_size = 32,\n",
        "    shuffle = True,\n",
        "    class_mode='categorical')"
      ],
      "execution_count": null,
      "outputs": []
    },
    {
      "cell_type": "code",
      "metadata": {
        "id": "CGnvS043Z1U1"
      },
      "source": [
        "test_datagen = ImageDataGenerator(\n",
        "    rescale = 1. / 255.,\n",
        "    dtype = tf.float64)"
      ],
      "execution_count": null,
      "outputs": []
    },
    {
      "cell_type": "code",
      "metadata": {
        "id": "zCW6NL_dZ1Sl"
      },
      "source": [
        "test_generator = test_datagen.flow_from_directory(\n",
        "    '/content/drive/MyDrive/Squat2/train',\n",
        "    target_size = img_size,\n",
        "    color_mode = 'grayscale',\n",
        "    batch_size = 16,\n",
        "    shuffle = True,\n",
        "    class_mode='categorical')\n"
      ],
      "execution_count": null,
      "outputs": []
    },
    {
      "cell_type": "code",
      "metadata": {
        "id": "LapXwwFIZ1HF"
      },
      "source": [
        "class_weights = class_weight.compute_class_weight(\n",
        "                   'balanced',\n",
        "                   np.unique(train_generator.classes), \n",
        "                   train_generator.classes)"
      ],
      "execution_count": null,
      "outputs": []
    },
    {
      "cell_type": "code",
      "metadata": {
        "id": "USo4I826Z-Ml"
      },
      "source": [
        "model.fit(train_generator, \n",
        "          validation_data = test_generator,\n",
        "          epochs = 10,\n",
        "          shuffle = True,\n",
        "      ##    class_weight = class_weights,\n",
        "          workers = 8,\n",
        "          max_queue_size = 512)\n"
      ],
      "execution_count": null,
      "outputs": []
    },
    {
      "cell_type": "code",
      "metadata": {
        "id": "cDUkEfyBZ_gn"
      },
      "source": [
        "model.save('saved/saved.h5')"
      ],
      "execution_count": null,
      "outputs": []
    }
  ]
}