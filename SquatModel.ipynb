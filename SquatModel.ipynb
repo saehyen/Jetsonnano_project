{
  "nbformat": 4,
  "nbformat_minor": 2,
  "metadata": {
    "colab": {
      "name": "SquatModel.ipynb",
      "private_outputs": true,
      "provenance": []
    },
    "kernelspec": {
      "name": "python3",
      "display_name": "Python 3"
    },
    "language_info": {
      "name": "python"
    }
  },
  "cells": [
    {
      "cell_type": "code",
      "execution_count": null,
      "source": [
        "from google.colab import drive\r\n",
        "drive.mount('/content/drive')"
      ],
      "outputs": [],
      "metadata": {
        "id": "qOBQAQfSaI4e"
      }
    },
    {
      "cell_type": "code",
      "execution_count": null,
      "source": [
        "%cd /content/drive/MyDrive/Squat2\r\n",
        "%ls\r\n",
        "data_dir = \"/content/drive/MyDrive/Squat2/\""
      ],
      "outputs": [],
      "metadata": {
        "id": "t9AyiU0oaPLu"
      }
    },
    {
      "cell_type": "markdown",
      "source": [
        "텐서플로우_케라스 이용"
      ],
      "metadata": {}
    },
    {
      "cell_type": "code",
      "execution_count": null,
      "source": [
        "import tensorflow as tf\r\n",
        "from tensorflow.keras import Sequential\r\n",
        "from tensorflow.keras.layers import Conv2D, MaxPool2D, Dense, Flatten, Dropout\r\n",
        "from tensorflow.keras.preprocessing.image import ImageDataGenerator\r\n",
        "\r\n",
        "from sklearn.utils import class_weight\r\n",
        "\r\n",
        "import numpy as np"
      ],
      "outputs": [],
      "metadata": {
        "id": "Wf3YpAOIZsmY"
      }
    },
    {
      "cell_type": "markdown",
      "source": [],
      "metadata": {}
    },
    {
      "cell_type": "code",
      "execution_count": null,
      "source": [
        "tf.keras.backend.set_floatx('float64')\r\n",
        "\r\n",
        "drop = 0.5\r\n",
        "img_size = (128, 128)"
      ],
      "outputs": [],
      "metadata": {
        "id": "P7NxGmYYZ1ct"
      }
    },
    {
      "cell_type": "code",
      "execution_count": null,
      "source": [
        "model = Sequential([\r\n",
        "    Conv2D(8, 5, activation = 'relu', input_shape = (img_size[0], img_size[1], 1)),\r\n",
        "    MaxPool2D(3),\r\n",
        "    Conv2D(16, 4, activation = 'relu'),\r\n",
        "    MaxPool2D(2),\r\n",
        "    Conv2D(32, 3, activation = 'relu'),\r\n",
        "    Flatten(),\r\n",
        "    Dense(32, activation = 'relu'),\r\n",
        "    Dropout(drop),\r\n",
        "    Dense(8, activation = 'relu'),\r\n",
        "    Dense(3, activation = 'softmax')\r\n",
        "])\r\n",
        "\r\n",
        "model.compile(optimizer = 'adam', loss = 'categorical_crossentropy', metrics = ['accuracy'])"
      ],
      "outputs": [],
      "metadata": {
        "id": "pkp26L09Z1at"
      }
    },
    {
      "cell_type": "code",
      "execution_count": null,
      "source": [
        "datagen = ImageDataGenerator(\r\n",
        "    rescale = 1. / 255.,\r\n",
        "    shear_range = 0.2,\r\n",
        "    zoom_range = 0.05,\r\n",
        "    rotation_range = 10,\r\n",
        "    width_shift_range = 0.1,\r\n",
        "    height_shift_range = 0.05,\r\n",
        "    brightness_range = [1, 1.5],\r\n",
        "    horizontal_flip = True,\r\n",
        "    dtype = tf.float64)"
      ],
      "outputs": [],
      "metadata": {
        "id": "3ZNQ4SeUZ1Yl"
      }
    },
    {
      "cell_type": "code",
      "execution_count": null,
      "source": [
        "train_generator = datagen.flow_from_directory(\r\n",
        "    '/content/drive/MyDrive/Squat2/train',\r\n",
        "    target_size = img_size,\r\n",
        "    color_mode = 'grayscale',\r\n",
        "    batch_size = 32,\r\n",
        "    shuffle = True,\r\n",
        "    class_mode='categorical')"
      ],
      "outputs": [],
      "metadata": {
        "id": "jMIm6O7-Z1Wl"
      }
    },
    {
      "cell_type": "code",
      "execution_count": null,
      "source": [
        "test_datagen = ImageDataGenerator(\r\n",
        "    rescale = 1. / 255.,\r\n",
        "    dtype = tf.float64)"
      ],
      "outputs": [],
      "metadata": {
        "id": "CGnvS043Z1U1"
      }
    },
    {
      "cell_type": "code",
      "execution_count": null,
      "source": [
        "test_generator = test_datagen.flow_from_directory(\r\n",
        "    '/content/drive/MyDrive/Squat2/train',\r\n",
        "    target_size = img_size,\r\n",
        "    color_mode = 'grayscale',\r\n",
        "    batch_size = 16,\r\n",
        "    shuffle = True,\r\n",
        "    class_mode='categorical')\r\n"
      ],
      "outputs": [],
      "metadata": {
        "id": "zCW6NL_dZ1Sl"
      }
    },
    {
      "cell_type": "code",
      "execution_count": null,
      "source": [
        "class_weights = class_weight.compute_class_weight(\n",
        "                   'balanced',\n",
        "                   np.unique(train_generator.classes), \n",
        "                   train_generator.classes)"
      ],
      "outputs": [],
      "metadata": {
        "id": "LapXwwFIZ1HF"
      }
    },
    {
      "cell_type": "code",
      "execution_count": null,
      "source": [
        "model.fit(train_generator, \n",
        "          validation_data = test_generator,\n",
        "          epochs = 10,\n",
        "          shuffle = True,\n",
        "      ##    class_weight = class_weights,\n",
        "          workers = 8,\n",
        "          max_queue_size = 512)\n"
      ],
      "outputs": [],
      "metadata": {
        "id": "USo4I826Z-Ml"
      }
    },
    {
      "cell_type": "code",
      "execution_count": null,
      "source": [
        "model.save('saved/saved.h5')"
      ],
      "outputs": [],
      "metadata": {
        "id": "cDUkEfyBZ_gn"
      }
    }
  ]
}