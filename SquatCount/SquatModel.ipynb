{
  "nbformat": 4,
  "nbformat_minor": 2,
  "metadata": {
    "colab": {
      "name": "SquatModel.ipynb",
      "private_outputs": true,
      "provenance": []
    },
    "kernelspec": {
      "name": "python3",
      "display_name": "Python 3"
    },
    "language_info": {
      "name": "python"
    }
  },
  "cells": [
    {
      "cell_type": "code",
      "execution_count": null,
      "source": [
        "from google.colab import drive\r\n",
        "drive.mount('/content/drive')"
      ],
      "outputs": [],
      "metadata": {
        "id": "qOBQAQfSaI4e"
      }
    },
    {
      "cell_type": "code",
      "execution_count": null,
      "source": [
        "%cd /content/drive/MyDrive/Squat2\r\n",
        "%ls\r\n",
        "data_dir = \"/content/drive/MyDrive/Squat2/\""
      ],
      "outputs": [],
      "metadata": {
        "id": "t9AyiU0oaPLu"
      }
    },
    {
      "cell_type": "markdown",
      "source": [
        "텐서플로우_케라스 이용"
      ],
      "metadata": {}
    },
    {
      "cell_type": "code",
      "execution_count": null,
      "source": [
        "import tensorflow as tf\r\n",
        "from tensorflow.keras import Sequential\r\n",
        "from tensorflow.keras.layers import Conv2D, MaxPool2D, Dense, Flatten, Dropout\r\n",
        "from tensorflow.keras.preprocessing.image import ImageDataGenerator\r\n",
        "\r\n",
        "from sklearn.utils import class_weight\r\n",
        "\r\n",
        "import numpy as np"
      ],
      "outputs": [],
      "metadata": {
        "id": "Wf3YpAOIZsmY"
      }
    },
    {
      "cell_type": "markdown",
      "source": [
        "- 이미지 사이즈 : 128,128\r\n",
        "- drop 비율 : 0.5"
      ],
      "metadata": {}
    },
    {
      "cell_type": "code",
      "execution_count": null,
      "source": [
        "tf.keras.backend.set_floatx('float64')\r\n",
        "\r\n",
        "drop = 0.5\r\n",
        "img_size = (128, 128)"
      ],
      "outputs": [],
      "metadata": {
        "id": "P7NxGmYYZ1ct"
      }
    },
    {
      "cell_type": "markdown",
      "source": [
        "### CNN 모델 지정\r\n",
        "- 활성화함수 : reLu\r\n",
        "- Convolution Layer, Maxpool, Flatten, SoftMax\r\n",
        "- 옵티마이저 : 애덤\r\n",
        "- 손실함수 : categorical_crossentropy"
      ],
      "metadata": {}
    },
    {
      "cell_type": "code",
      "execution_count": null,
      "source": [
        "model = Sequential([\r\n",
        "    Conv2D(8, 5, activation = 'relu', input_shape = (img_size[0], img_size[1], 1)),\r\n",
        "    MaxPool2D(3),\r\n",
        "    Conv2D(16, 4, activation = 'relu'),\r\n",
        "    MaxPool2D(2),\r\n",
        "    Conv2D(32, 3, activation = 'relu'),\r\n",
        "    Flatten(),\r\n",
        "    Dense(32, activation = 'relu'),\r\n",
        "    Dropout(drop),\r\n",
        "    Dense(8, activation = 'relu'),\r\n",
        "    Dense(3, activation = 'softmax')\r\n",
        "])\r\n",
        "\r\n",
        "model.compile(optimizer = 'adam', loss = 'categorical_crossentropy', metrics = ['accuracy'])"
      ],
      "outputs": [],
      "metadata": {
        "id": "pkp26L09Z1at"
      }
    },
    {
      "cell_type": "code",
      "execution_count": null,
      "source": [
        "datagen = ImageDataGenerator(\r\n",
        "    rescale = 1. / 255.,\r\n",
        "    shear_range = 0.2,\r\n",
        "    zoom_range = 0.05,\r\n",
        "    rotation_range = 10,\r\n",
        "    width_shift_range = 0.1,\r\n",
        "    height_shift_range = 0.05,\r\n",
        "    brightness_range = [1, 1.5],\r\n",
        "    horizontal_flip = True,\r\n",
        "    dtype = tf.float64)"
      ],
      "outputs": [],
      "metadata": {
        "id": "3ZNQ4SeUZ1Yl"
      }
    },
    {
      "cell_type": "markdown",
      "source": [
        "- 학습 자료 생성기\r\n",
        "    - color_mode :이미지가 1개  색깔 채널을 갖도록 변환\r\n",
        "    - class_mode : Mode for yielding the targets\r\n",
        "    - batch_size : 데이터 배치의 크기"
      ],
      "metadata": {}
    },
    {
      "cell_type": "code",
      "execution_count": null,
      "source": [
        "train_generator = datagen.flow_from_directory(\r\n",
        "    '/content/drive/MyDrive/Squat2/train',\r\n",
        "    target_size = img_size,\r\n",
        "    color_mode = 'grayscale',\r\n",
        "    batch_size = 32,\r\n",
        "    shuffle = True,\r\n",
        "    class_mode='categorical')"
      ],
      "outputs": [],
      "metadata": {
        "id": "jMIm6O7-Z1Wl"
      }
    },
    {
      "cell_type": "markdown",
      "source": [
        "- rescale : 크기 재조절 인수\r\n",
        "- dtype : 생성된 배열에 사용할 자료형"
      ],
      "metadata": {}
    },
    {
      "cell_type": "code",
      "execution_count": null,
      "source": [
        "test_datagen = ImageDataGenerator(\r\n",
        "    rescale = 1. / 255.,\r\n",
        "    dtype = tf.float64)"
      ],
      "outputs": [],
      "metadata": {
        "id": "CGnvS043Z1U1"
      }
    },
    {
      "cell_type": "markdown",
      "source": [
        "- 테스트 자료 생성기\r\n",
        "    - color_mode :이미지가 1개  색깔 채널을 갖도록 변환\r\n",
        "    - class_mode : Mode for yielding the targets\r\n",
        "    - batch_size : 데이터 배치의 크기"
      ],
      "metadata": {}
    },
    {
      "cell_type": "code",
      "execution_count": null,
      "source": [
        "test_generator = test_datagen.flow_from_directory(\r\n",
        "    '/content/drive/MyDrive/Squat2/train',\r\n",
        "    target_size = img_size,\r\n",
        "    color_mode = 'grayscale',\r\n",
        "    batch_size = 16,\r\n",
        "    shuffle = True,\r\n",
        "    class_mode='categorical')"
      ],
      "outputs": [],
      "metadata": {
        "id": "zCW6NL_dZ1Sl"
      }
    },
    {
      "cell_type": "markdown",
      "source": [
        "- 클래스 가중치 \r\n",
        "    - 사용이유 : 적은수의 클래스를 구분할 때 가중치를 주어 구분하기 편하게 만듬.\r\n",
        "    - 그러나 이 모델에서는 사용하지않음."
      ],
      "metadata": {}
    },
    {
      "cell_type": "code",
      "execution_count": null,
      "source": [
        "class_weights = class_weight.compute_class_weight(\r\n",
        "                   'balanced',\r\n",
        "                   np.unique(train_generator.classes), \r\n",
        "                   train_generator.classes)"
      ],
      "outputs": [],
      "metadata": {
        "id": "LapXwwFIZ1HF"
      }
    },
    {
      "cell_type": "markdown",
      "source": [
        "- 에폭 : 10\r\n",
        "- workers : 다중작업 수"
      ],
      "metadata": {}
    },
    {
      "cell_type": "code",
      "execution_count": null,
      "source": [
        "model.fit(train_generator, \r\n",
        "          validation_data = test_generator,\r\n",
        "          epochs = 10,\r\n",
        "          shuffle = True,\r\n",
        "      ##    class_weight = class_weights,\r\n",
        "          workers = 8,\r\n",
        "          max_queue_size = 512)\r\n"
      ],
      "outputs": [],
      "metadata": {
        "id": "USo4I826Z-Ml"
      }
    },
    {
      "cell_type": "code",
      "execution_count": null,
      "source": [
        "model.save('saved/saved.h5')"
      ],
      "outputs": [],
      "metadata": {
        "id": "cDUkEfyBZ_gn"
      }
    }
  ]
}